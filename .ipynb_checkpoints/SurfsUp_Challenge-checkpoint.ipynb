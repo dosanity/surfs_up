{
 "cells": [
  {
   "cell_type": "code",
   "execution_count": 62,
   "metadata": {},
   "outputs": [],
   "source": [
    "# Dependencies\n",
    "import numpy as np\n",
    "import datetime as dt\n",
    "import pandas as pd\n",
    "import matplotlib.pyplot as plt\n",
    "\n",
    "# Python SQL toolkit and Object Relational Mapper\n",
    "import sqlalchemy\n",
    "from sqlalchemy.ext.automap import automap_base\n",
    "from sqlalchemy.orm import Session\n",
    "from sqlalchemy import create_engine, func"
   ]
  },
  {
   "cell_type": "code",
   "execution_count": 63,
   "metadata": {},
   "outputs": [],
   "source": [
    "engine = create_engine(\"sqlite:///hawaii.sqlite\")\n",
    "\n",
    "# reflect an existing database into a new model\n",
    "Base = automap_base()\n",
    "# reflect the tables\n",
    "Base.prepare(engine, reflect=True)\n",
    "\n",
    "# Save references to each table\n",
    "Measurement = Base.classes.measurement\n",
    "Station = Base.classes.station"
   ]
  },
  {
   "cell_type": "code",
   "execution_count": 64,
   "metadata": {},
   "outputs": [],
   "source": [
    "# Create our session (link) from Python to the DB\n",
    "session = Session(engine)"
   ]
  },
  {
   "cell_type": "markdown",
   "metadata": {},
   "source": [
    "## D1: Determine the Summary Statistics for June"
   ]
  },
  {
   "cell_type": "code",
   "execution_count": 65,
   "metadata": {},
   "outputs": [
    {
     "name": "stdout",
     "output_type": "stream",
     "text": [
      "[(78.0, 0.0), (76.0, 0.01), (78.0, 0.0), (76.0, 0.0), (77.0, 0.0), (78.0, 0.0), (77.0, 0.0), (78.0, 0.0), (78.0, 0.0), (79.0, 0.0), (78.0, 0.0), (78.0, 0.0), (78.0, 0.0), (77.0, 0.0), (78.0, 0.0), (78.0, 0.0), (77.0, 0.0), (77.0, 0.0), (82.0, 0.0), (78.0, 0.0), (78.0, 0.0), (78.0, 0.0), (78.0, 0.0), (78.0, 0.0), (77.0, 0.0), (76.0, 0.02), (78.0, 0.0), (78.0, 0.0), (78.0, 0.0), (78.0, 0.0), (77.0, 0.07), (78.0, 0.0), (73.0, 0.56), (70.0, 0.89), (76.0, 0.0), (77.0, 0.0), (77.0, 0.0), (77.0, 0.03), (77.0, 0.01), (78.0, 0.0), (77.0, 0.0), (77.0, 0.0), (78.0, 0.0), (78.0, 0.0), (77.0, 0.0), (78.0, 0.0), (78.0, 0.0), (75.0, 0.05), (76.0, 0.06), (76.0, 0.07), (77.0, None), (78.0, 0.0), (76.0, 0.0), (77.0, 0.01), (75.0, 0.01), (77.0, 0.0), (76.0, 0.02), (76.0, 0.02), (75.0, 0.0), (77.0, 0.0), (77.0, 0.0), (76.0, 0.0), (78.0, 0.0), (77.0, None), (76.0, None), (77.0, 0.0), (76.0, 0.0), (76.0, 0.0), (77.0, 0.0), (77.0, 0.0), (78.0, 0.0), (77.0, 0.0), (77.0, 0.0), (77.0, 0.0), (76.0, 0.0), (75.0, 0.0), (76.0, 0.0), (76.0, 0.0), (77.0, 0.0), (76.0, 0.0), (73.0, 0.03), (73.0, 0.15), (75.0, 0.01), (77.0, 0.0), (76.0, 0.05), (77.0, 0.0), (79.0, 0.01), (78.0, 0.0), (79.0, 0.0), (78.0, 0.0), (78.0, 0.0), (79.0, 0.0), (77.0, 0.0), (77.0, 0.0), (77.0, 0.0), (77.0, 0.0), (77.0, 0.0), (78.0, 0.0), (77.0, 0.0), (76.0, 0.37), (78.0, 0.0), (78.0, 0.0), (77.0, 0.0), (78.0, 0.01), (78.0, 0.0), (73.0, 0.04), (76.0, 0.12), (77.0, 0.04), (75.0, 0.02), (76.0, 0.35), (74.0, 0.03), (75.0, 0.01), (77.0, 0.0), (76.0, 0.0), (77.0, 0.03), (78.0, 0.01), (79.0, 0.0), (77.0, 0.66), (78.0, 0.01), (79.0, 0.0), (78.0, 0.0), (78.0, 0.0), (78.0, 0.03), (78.0, 0.0), (79.0, 0.0), (79.0, 0.0), (82.0, 0.0), (80.0, 0.0), (79.0, 0.0), (79.0, 0.0), (78.0, 0.01), (78.0, 0.0), (77.0, 0.03), (78.0, 0.15), (78.0, 0.01), (73.0, 0.07), (75.0, 0.01), (75.0, 0.01), (76.0, 0.19), (84.0, 0.0), (79.0, 0.05), (76.0, 0.06), (79.0, 0.04), (79.0, 0.0), (77.0, 0.01), (79.0, 0.02), (78.0, 0.0), (78.0, 0.0), (79.0, 0.0), (77.0, 0.0), (79.0, 0.0), (78.0, 0.0), (78.0, 0.0), (78.0, 0.0), (79.0, 0.0), (77.0, 0.0), (78.0, 0.0), (78.0, 0.0), (78.0, 0.0), (78.0, 0.0), (79.0, 0.0), (79.0, 0.0), (77.0, 0.03), (78.0, 0.0), (78.0, 0.01), (78.0, 0.04), (79.0, 0.0), (79.0, 0.0), (77.0, 0.03), (79.0, 0.03), (79.0, 0.03), (79.0, 0.0), (81.0, 0.0), (76.0, 0.0), (80.0, 0.0), (78.0, 0.0), (76.0, 0.06), (71.0, 0.0), (71.0, 0.0), (74.0, 0.0), (76.0, 0.0), (78.0, 0.0), (77.0, 0.01), (77.0, 0.0), (73.0, 0.01), (77.0, 0.05), (78.0, 0.0), (78.0, 0.01), (80.0, 0.0), (79.0, 0.0), (78.0, 0.01), (77.0, 0.02), (76.0, 0.02), (77.0, 0.0), (77.0, 0.01), (78.0, 0.01), (80.0, 0.0), (79.0, 0.0), (79.0, 0.0), (77.0, 0.01), (78.0, 0.03), (79.0, 0.01), (80.0, 0.01), (76.0, 0.0), (79.0, 0.0), (80.0, 0.0), (79.0, 0.0), (79.0, 0.0), (79.0, 0.02), (79.0, 0.0), (80.0, 0.0), (79.0, 0.0), (79.0, 0.0), (80.0, 0.0), (80.0, 0.0), (77.0, 0.04), (79.0, 0.08), (83.0, 0.02), (80.0, 0.0), (80.0, 0.0), (78.0, 0.0), (79.0, 0.0), (80.0, 0.0), (77.0, 0.05), (80.0, 0.0), (78.0, 0.02), (79.0, 0.0), (80.0, 0.0), (78.0, 0.0), (80.0, 0.06), (80.0, 0.0), (81.0, 0.0), (80.0, 0.0), (79.0, 0.0), (79.0, 0.0), (75.0, 0.08), (74.0, 0.03), (76.0, 0.0), (75.0, 0.0), (75.0, 0.0), (74.0, 0.0), (75.0, 0.0), (75.0, 0.02), (75.0, 0.0), (75.0, 0.0), (75.0, 0.02), (83.0, 0.0), (75.0, 0.0), (76.0, 0.01), (73.0, 0.06), (74.0, 0.0), (74.0, 0.01), (75.0, 0.02), (70.0, 0.06), (74.0, 0.13), (75.0, 0.02), (75.0, 0.01), (75.0, 0.0), (75.0, 0.0), (75.0, 0.01), (74.0, 0.05), (72.0, 0.24), (76.0, 0.03), (73.0, 0.11), (75.0, 0.0), (76.0, 0.03), (74.0, 0.03), (75.0, 0.08), (71.0, 0.63), (69.0, 4.43), (69.0, 4.02), (74.0, 0.02), (71.0, 0.06), (74.0, 0.04), (74.0, 0.01), (75.0, 0.02), (73.0, 0.01), (73.0, 0.12), (73.0, 0.16), (75.0, 0.0), (75.0, 0.0), (74.0, 0.06), (74.0, 0.0), (75.0, 0.02), (74.0, 0.09), (73.0, 0.03), (72.0, 0.54), (74.0, 0.22), (72.0, 0.03), (75.0, 0.21), (76.0, 0.0), (74.0, 0.04), (74.0, 0.03), (74.0, 0.1), (74.0, 0.0), (74.0, 0.0), (71.0, 0.08), (71.0, 0.03), (75.0, 0.0), (72.0, 0.0), (72.0, 0.0), (73.0, 0.03), (73.0, 0.0), (73.0, 0.0), (74.0, 0.0), (73.0, 0.0), (72.0, 0.04), (72.0, 0.02), (70.0, 0.05), (72.0, 0.08), (72.0, 0.0), (72.0, 0.0), (74.0, 0.02), (73.0, 0.0), (73.0, 0.01), (70.0, 0.14), (73.0, 0.02), (72.0, 0.01), (73.0, 0.28), (69.0, 0.27), (72.0, 0.04), (71.0, 0.22), (71.0, 0.23), (73.0, 0.0), (73.0, 0.06), (72.0, 0.0), (75.0, 0.05), (75.0, 0.02), (75.0, 0.02), (75.0, 0.0), (74.0, 0.0), (74.0, 0.03), (74.0, 0.0), (75.0, 0.0), (75.0, 0.0), (74.0, 0.02), (75.0, 0.0), (75.0, 0.0), (74.0, 0.02), (72.0, 0.08), (74.0, 0.01), (74.0, 0.0), (74.0, 0.01), (74.0, 0.02), (74.0, 0.0), (72.0, 0.0), (70.0, 0.22), (75.0, 0.27), (74.0, 0.03), (71.0, 0.02), (71.0, 0.05), (70.0, 1.0), (73.0, 0.1), (71.0, 0.02), (71.0, 0.22), (77.0, 0.01), (77.0, 0.0), (74.0, 0.0), (73.0, 0.0), (75.0, 0.0), (75.0, 0.0), (74.0, 0.13), (74.0, 0.01), (75.0, 0.02), (75.0, 0.02), (72.0, 0.1), (74.0, 0.15), (76.0, 0.0), (76.0, 0.0), (75.0, 0.0), (75.0, 0.01), (74.0, 0.12), (72.0, 0.05), (74.0, 0.07), (75.0, 0.0), (70.0, 0.29), (71.0, 0.06), (72.0, 0.15), (71.0, 0.15), (73.0, 0.1), (74.0, 0.04), (72.0, 0.04), (74.0, 0.02), (76.0, 0.25), (72.0, 0.18), (75.0, 0.03), (75.0, None), (72.0, 0.27), (70.0, 0.0), (76.0, 0.0), (78.0, 0.0), (72.0, 0.1), (74.0, 0.05), (74.0, 0.07), (72.0, 0.1), (71.0, 0.0), (79.0, 0.0), (79.0, 0.07), (76.0, 0.0), (75.0, 0.14), (72.0, 0.25), (74.0, 0.14), (76.0, 0.02), (76.0, 0.04), (77.0, 0.01), (75.0, 0.01), (76.0, 0.03), (75.0, 0.14), (75.0, 0.2), (76.0, 0.1), (76.0, 0.06), (74.0, None), (70.0, 0.89), (69.0, 0.15), (70.0, 0.16), (68.0, 0.0), (70.0, 0.63), (74.0, 0.36), (75.0, 0.4), (74.0, 0.0), (71.0, 0.21), (73.0, 0.06), (75.0, 0.02), (74.0, 0.04), (76.0, 0.08), (76.0, 0.06), (76.0, 0.18), (76.0, 0.03), (75.0, 0.16), (75.0, 0.3), (75.0, 0.02), (74.0, 0.16), (73.0, 0.03), (76.0, 0.01), (74.0, 0.25), (78.0, 0.02), (71.0, 0.8), (75.0, 0.06), (75.0, 0.06), (74.0, 0.02), (77.0, 0.03), (77.0, 0.0), (76.0, 0.03), (76.0, 0.1), (76.0, 0.2), (78.0, 0.15), (76.0, 0.0), (75.0, 0.0), (75.0, 0.0), (76.0, 0.02), (78.0, 0.02), (75.0, 0.21), (73.0, 0.24), (76.0, 0.19), (76.0, 0.36), (76.0, 0.27), (77.0, 0.17), (76.0, 0.02), (77.0, 0.35), (72.0, 0.25), (77.0, 0.05), (75.0, 0.05), (82.0, 0.02), (77.0, 0.1), (76.0, 0.0), (74.0, 0.0), (73.0, 0.08), (77.0, 0.02), (77.0, 0.0), (77.0, 0.01), (76.0, 0.03), (74.0, 0.04), (73.0, 0.01), (72.0, 0.0), (74.0, 0.0), (73.0, 0.0), (72.0, 0.0), (75.0, 0.0), (74.0, 0.09), (75.0, 0.0), (73.0, 0.0), (75.0, 0.0), (76.0, 0.0), (74.0, 0.03), (74.0, 0.0), (73.0, 0.06), (73.0, 0.03), (76.0, 0.0), (75.0, 0.0), (70.0, 0.03), (75.0, 0.04), (73.0, 0.0), (74.0, 0.0), (74.0, 0.0), (74.0, 0.0), (74.0, 0.05), (70.0, 0.12), (75.0, None), (74.0, 0.18), (73.0, 0.06), (74.0, 0.03), (72.0, 0.19), (73.0, 0.04), (67.0, 1.75), (69.0, 1.14), (76.0, 3.6), (73.0, 0.0), (70.0, 0.05), (72.0, 0.17), (74.0, 0.0), (72.0, 0.02), (72.0, None), (75.0, 0.02), (73.0, 0.0), (73.0, 0.13), (72.0, 0.0), (74.0, 0.0), (76.0, 0.12), (72.0, None), (74.0, 0.2), (70.0, 0.09), (74.0, 0.17), (74.0, 0.03), (74.0, None), (71.0, 0.12), (75.0, 0.08), (75.0, 0.01), (76.0, None), (77.0, 0.12), (75.0, 0.03), (74.0, 0.2), (75.0, 0.0), (76.0, 0.23), (78.0, 0.02), (78.0, None), (76.0, 0.0), (78.0, 0.0), (76.0, 0.0), (76.0, 0.01), (78.0, 0.0), (79.0, 0.01), (77.0, 0.0), (76.0, 0.0), (77.0, 0.04), (77.0, 0.08), (76.0, 0.03), (78.0, None), (76.0, 0.04), (76.0, 0.04), (77.0, 0.08), (71.0, 0.01), (74.0, None), (72.0, 0.17), (77.0, 0.0), (77.0, None), (78.0, 0.02), (77.0, 0.0), (77.0, 0.0), (76.0, 0.0), (75.0, 0.13), (79.0, 0.04), (75.0, None), (73.0, 0.16), (76.0, 0.17), (78.0, 0.0), (77.0, 0.0), (78.0, 0.0), (76.0, None), (75.0, 0.39), (76.0, 0.08), (77.0, 0.14), (74.0, 0.07), (78.0, 0.11), (77.0, None), (77.0, 0.03), (74.0, 0.1), (74.0, 0.08), (78.0, 0.08), (79.0, None), (79.0, 0.04), (78.0, 0.05), (75.0, 0.0), (76.0, 0.22), (78.0, 0.0), (78.0, 0.0), (74.0, None), (78.0, 0.0), (77.0, 0.0), (76.0, 0.0), (78.0, 0.03), (78.0, None), (78.0, 0.0), (78.0, 0.0), (74.0, 0.16), (79.0, 0.04), (77.0, 0.02), (73.0, 0.06), (79.0, 0.0), (79.0, 0.04), (78.0, 0.02), (77.0, 0.01), (78.0, 0.2), (78.0, 0.11), (80.0, 0.09), (80.0, 0.0), (79.0, 0.11), (74.0, 1.1), (71.0, 0.22), (74.0, 0.35), (75.0, 0.02), (75.0, None), (74.0, 0.0), (76.0, 0.12), (75.0, 0.13), (77.0, 0.01), (77.0, 0.26), (79.0, 0.01), (79.0, 0.0), (78.0, 0.18), (79.0, 0.06), (73.0, 0.17), (78.0, 0.03), (79.0, 0.03), (80.0, 0.47), (76.0, 0.0), (79.0, 0.08), (79.0, 0.1), (77.0, 0.03), (80.0, 0.44), (79.0, 0.03), (78.0, 0.0), (78.0, 0.0), (79.0, 0.06), (78.0, 0.0), (81.0, 0.0), (78.0, 0.15), (80.0, 0.16), (79.0, 0.05), (81.0, 0.02), (80.0, 0.0), (81.0, 0.0), (79.0, 0.01), (81.0, 0.0), (78.0, 0.53), (79.0, 0.14), (79.0, 0.35), (75.0, 0.1), (79.0, 0.21), (78.0, 0.3), (80.0, 0.02), (78.0, 0.02), (77.0, 0.18), (78.0, 0.19), (79.0, 0.17), (76.0, None), (80.0, None), (76.0, None), (81.0, 0.0), (77.0, 0.0), (76.0, 0.0), (77.0, 0.14), (75.0, 0.0), (76.0, 0.0), (79.0, 0.0), (79.0, 0.0), (77.0, 0.0), (76.0, 0.0), (77.0, 0.0), (76.0, 0.0), (73.0, 0.05), (76.0, 0.0), (77.0, 0.02), (77.0, 0.0), (78.0, 0.02), (77.0, 0.1), (76.0, 0.0), (78.0, 0.0), (78.0, 0.0), (75.0, None), (77.0, 0.0), (65.0, 1.71), (76.0, 0.0), (74.0, 0.0), (76.0, 0.05), (76.0, 0.0), (77.0, 0.0), (77.0, 0.0), (76.0, None), (77.0, None), (76.0, None), (77.0, None), (74.0, 0.25), (76.0, 0.08), (73.0, 0.22), (75.0, 0.1), (76.0, None), (75.0, None), (76.0, None), (75.0, 0.0), (74.0, 0.04), (74.0, None), (74.0, 0.0), (74.0, None), (76.0, None), (76.0, 0.0), (77.0, None), (77.0, 0.0), (78.0, 0.25), (73.0, None), (75.0, None), (72.0, 0.02), (76.0, 0.05), (76.0, 0.0), (73.0, 0.0), (74.0, None), (72.0, None), (76.0, None), (76.0, 0.0), (76.0, 0.0), (78.0, None), (78.0, None), (78.0, 0.02), (78.0, 0.0), (75.0, 0.0), (77.0, 0.0), (73.0, None), (78.0, None), (75.0, None), (73.0, None), (77.0, 0.08), (80.0, 0.0), (70.0, 0.04), (78.0, 0.08), (72.0, None), (78.0, None), (72.0, 0.01), (78.0, None), (77.0, None), (79.0, 0.0), (77.0, None), (78.0, None), (74.0, None), (79.0, None), (79.0, 0.0), (79.0, None), (79.0, 0.0), (77.0, None), (79.0, 0.2), (78.0, 0.0), (80.0, 0.01), (81.0, 0.14), (81.0, 0.0), (78.0, 0.04), (77.0, 0.0), (78.0, None), (79.0, 0.0), (77.0, 0.01), (79.0, 0.0), (80.0, 0.0), (79.0, None), (78.0, 0.04), (79.0, 0.09), (79.0, None), (79.0, None), (81.0, None), (64.0, None), (65.0, None), (75.0, None), (76.0, None), (78.0, None), (77.0, None), (75.0, None), (78.0, None), (81.0, None), (78.0, 0.02), (76.0, 0.1), (73.0, 0.38), (74.0, 0.1), (76.0, None), (78.0, None), (79.0, None), (78.0, None), (72.0, None), (78.0, None), (80.0, None), (81.0, None), (79.0, None), (78.0, None), (80.0, None), (80.0, None), (78.0, None), (80.0, None), (81.0, None), (78.0, None), (77.0, None), (78.0, None), (78.0, None), (77.0, None), (76.0, None), (81.0, 0.0), (76.0, 0.0), (82.0, None), (80.0, 0.0), (80.0, 0.0), (79.0, 0.0), (74.0, 0.12), (69.0, None), (70.0, 0.03), (67.0, 0.0), (70.0, 0.0), (73.0, 0.0), (73.0, 0.0), (72.0, None), (72.0, 0.0), (77.0, 0.0), (70.0, 0.0), (78.0, 0.01), (73.0, None), (75.0, 0.0), (70.0, 0.3), (74.0, 0.02), (77.0, 0.03), (69.0, None), (73.0, 0.11), (73.0, 0.28), (74.0, 0.3), (73.0, None), (72.0, 0.1), (75.0, 0.04), (73.0, None), (76.0, 0.04), (74.0, None), (76.0, 0.08), (73.0, 0.09), (76.0, 0.06), (76.0, 0.07), (78.0, None), (75.0, 0.05), (77.0, 0.82), (75.0, 0.03), (73.0, None), (76.0, None), (71.0, None), (71.0, None), (76.0, 0.03), (76.0, 0.0), (76.0, 0.0), (73.0, 0.0), (78.0, 0.0), (77.0, 0.0), (77.0, 0.0), (77.0, 0.01), (78.0, 0.0), (78.0, 0.0), (76.0, 0.0), (76.0, 0.0), (79.0, 0.0), (74.0, 0.0), (75.0, 0.0), (76.0, 0.0), (75.0, 0.0), (73.0, 0.14), (76.0, 0.0), (78.0, 0.0), (76.0, 0.0), (79.0, 0.0), (77.0, 0.0), (76.0, 0.0), (74.0, 0.08), (75.0, 0.08), (76.0, 0.0), (76.0, 0.0), (76.0, 0.0), (79.0, 0.15), (76.0, 0.01), (72.0, 0.09), (71.0, 0.51), (72.0, 0.25), (76.0, 0.03), (74.0, 0.03), (75.0, 0.0), (76.0, 0.0), (77.0, 0.0), (76.0, 0.0), (75.0, 0.09), (76.0, 0.0), (76.0, 0.0), (76.0, 0.0), (75.0, 0.09), (76.0, 0.0), (76.0, 0.0), (79.0, 0.17), (74.0, 0.14), (73.0, 0.38), (75.0, 0.17), (74.0, 0.05), (75.0, 0.03), (76.0, 0.0), (72.0, 0.12), (74.0, 0.02), (74.0, 0.02), (75.0, 0.0), (75.0, 0.0), (74.0, 0.0), (75.0, 0.0), (77.0, 0.0), (75.0, 0.0), (74.0, 0.0), (75.0, 0.12), (74.0, 0.0), (75.0, 0.0), (73.0, 0.0), (75.0, 0.0), (76.0, 0.0), (76.0, 0.01), (76.0, 0.01), (79.0, 0.0), (74.0, 0.0), (78.0, 0.0), (80.0, 0.0), (75.0, 0.0), (72.0, 0.25), (72.0, 0.25), (74.0, 0.0), (78.0, 0.0), (76.0, 0.1), (77.0, 0.0), (72.0, 0.51), (72.0, 0.19), (73.0, 0.15), (75.0, 0.0), (79.0, 0.06), (81.0, 0.0), (76.0, 0.0), (76.0, 0.08), (77.0, 0.02), (78.0, 0.0), (79.0, 0.0), (79.0, 0.0), (75.0, 0.07), (79.0, 0.0), (79.0, 0.0), (75.0, 0.0), (77.0, 0.0), (81.0, 0.0), (76.0, 0.0), (75.0, 0.28), (78.0, 0.0), (81.0, 0.0), (76.0, 0.0), (76.0, 0.0), (76.0, 0.0), (72.0, 0.07), (73.0, 0.32), (74.0, 0.13), (74.0, 0.08), (75.0, 0.01), (73.0, 0.18), (73.0, 0.42), (76.0, 0.02), (73.0, 0.05), (79.0, 0.0), (78.0, 0.0), (76.0, 0.1), (76.0, None), (76.0, 0.0), (77.0, 0.0), (79.0, 0.0), (80.0, 0.0), (78.0, 0.0), (76.0, 0.0), (78.0, 0.13), (78.0, 0.0), (77.0, 0.0), (79.0, 0.0), (79.0, 0.0), (75.0, 0.0), (76.0, None), (77.0, 0.0), (74.0, 0.51), (77.0, 0.0), (76.0, 0.01), (76.0, 0.23), (75.0, 0.01), (74.0, 0.07), (79.0, 0.1), (76.0, None), (74.0, 0.01), (76.0, 0.07), (77.0, 0.13), (78.0, 0.0), (77.0, 0.0), (75.0, 0.07), (75.0, 0.01), (80.0, 0.0), (77.0, 0.0), (77.0, 0.01), (77.0, 0.01), (80.0, 0.0), (76.0, 0.0), (78.0, 0.0), (77.0, 0.0), (79.0, 0.0), (79.0, 0.0), (77.0, 0.0), (75.0, 0.05), (76.0, 0.18), (78.0, 0.0), (78.0, 0.0), (80.0, 0.0), (78.0, 0.0), (79.0, 0.05), (79.0, 0.0), (77.0, 0.14), (77.0, 0.0), (81.0, 0.0), (75.0, None), (72.0, 0.0), (75.0, 0.38), (75.0, 0.03), (75.0, 0.47), (75.0, 0.02), (73.0, 0.14), (78.0, 0.17), (77.0, 0.07), (80.0, 0.0), (72.0, 0.15), (78.0, 0.23), (78.0, 0.0), (77.0, 0.12), (78.0, 0.1), (79.0, 0.0), (80.0, 0.25), (76.0, None), (77.0, 0.0), (79.0, 0.06), (79.0, 0.03), (77.0, 0.03), (79.0, 0.0), (80.0, 0.0), (80.0, 0.0), (77.0, 0.21), (79.0, 0.0), (81.0, 0.0), (78.0, 0.0), (80.0, 0.0), (79.0, 0.0), (79.0, 0.0), (81.0, 0.0), (79.0, 0.15), (81.0, 0.0), (78.0, 0.0), (78.0, 0.0), (78.0, 0.0), (77.0, 0.0), (78.0, 0.0), (75.0, 0.13), (81.0, 0.25), (80.0, 0.14), (77.0, 0.03), (80.0, 0.06), (78.0, 0.0), (80.0, 0.0), (77.0, 0.0), (78.0, 0.0), (78.0, 0.01), (80.0, None), (80.0, 0.0), (79.0, 0.05), (82.0, 0.0), (80.0, 0.0), (81.0, 0.0), (81.0, 0.0), (79.0, 0.0), (78.0, 0.0), (75.0, 0.07), (71.0, 0.0), (71.0, 0.03), (72.0, 0.0), (72.0, 0.0), (76.0, 0.0), (77.0, 0.0), (71.0, 0.12), (73.0, 0.0), (73.0, 0.0), (75.0, 0.0), (81.0, 0.0), (74.0, 0.0), (77.0, 0.04), (70.0, 0.06), (69.0, 0.11), (70.0, 0.0), (72.0, 0.02), (71.0, 0.19), (77.0, 0.33), (76.0, 0.0), (74.0, 0.0), (74.0, 0.0), (74.0, 0.02), (74.0, 0.07), (71.0, 0.09), (80.0, 0.41), (77.0, 0.05), (72.0, 0.0), (72.0, 0.05), (73.0, 0.0), (72.0, 0.22), (73.0, 0.42), (73.0, 0.33), (77.0, 0.03), (76.0, 0.05), (79.0, 0.03), (78.0, 0.03), (82.0, 0.32), (79.0, 0.05), (76.0, 0.16), (74.0, 0.0), (74.0, 0.06), (73.0, 0.03), (79.0, 0.01), (77.0, 0.14), (73.0, 0.05), (72.0, 0.57), (72.0, 0.61), (73.0, 0.06), (74.0, 0.81), (77.0, 0.01), (73.0, 0.11), (73.0, 0.09), (72.0, 0.12), (72.0, 0.08), (67.0, 0.03), (71.0, 0.02), (73.0, 0.08), (78.0, 0.0), (71.0, 0.0), (72.0, 0.0), (70.0, 0.1), (72.0, 0.07), (73.0, 0.01), (74.0, 0.0), (81.0, 0.0), (72.0, 0.11), (77.0, 0.16), (69.0, 0.07), (69.0, 0.21), (69.0, 0.0), (78.0, 0.0), (78.0, 0.02), (73.0, 0.0), (72.0, 0.02), (71.0, 0.33), (72.0, 0.26), (72.0, 0.03), (73.0, 0.35), (71.0, 0.14), (70.0, 0.13), (71.0, 0.22), (68.0, 0.43), (72.0, 0.01), (71.0, 0.14), (78.0, 0.01), (81.0, 0.06), (74.0, 0.17), (74.0, 0.08), (73.0, 0.0), (73.0, 0.0), (72.0, 0.0), (73.0, 0.0), (77.0, 0.0), (73.0, 0.0), (73.0, 0.01), (75.0, 0.02), (72.0, 0.0), (72.0, 0.1), (73.0, 0.16), (73.0, 0.1), (75.0, 0.03), (72.0, 0.05), (73.0, 0.04), (70.0, 0.01), (69.0, 0.02), (68.0, 0.53), (75.0, 0.88), (74.0, 0.03), (73.0, 0.22), (70.0, 0.36), (70.0, 0.82), (71.0, 0.07), (70.0, 0.04), (70.0, 0.43), (75.0, 0.71), (74.0, 0.07), (72.0, 0.06), (74.0, 0.0), (73.0, 0.01), (73.0, 0.01), (70.0, 0.19), (73.0, 0.2), (75.0, 0.18), (73.0, 0.04), (69.0, 0.22), (80.0, 0.37), (73.0, 0.02), (72.0, 0.0), (80.0, 0.02), (80.0, 0.02), (69.0, 0.03), (70.0, 0.29), (69.0, 0.17), (72.0, 0.04), (68.0, 0.16), (74.0, 0.22), (75.0, 0.04), (70.0, 0.31), (70.0, 0.08), (72.0, 0.23), (71.0, 0.31), (70.0, 0.12), (77.0, 0.6), (73.0, 0.48), (71.0, 0.01), (76.0, 0.46), (68.0, 0.02), (71.0, 0.0), (70.0, 1.24), (68.0, 0.06), (79.0, 0.0), (75.0, 0.07), (71.0, 0.01), (69.0, 0.34), (71.0, 0.03), (72.0, 0.03), (69.0, 0.08), (72.0, 0.01), (75.0, 0.05), (71.0, 0.03), (72.0, 0.01), (70.0, 0.15), (71.0, 0.45), (72.0, 0.19), (75.0, 0.13), (75.0, 0.05), (71.0, 0.05), (73.0, 0.03), (71.0, 0.17), (71.0, 0.21), (74.0, 0.02), (74.0, 0.21), (78.0, 0.02), (72.0, 0.27), (69.0, 0.16), (69.0, 1.39), (67.0, 0.5), (68.0, 0.02), (65.0, 0.0), (70.0, 0.22), (72.0, 0.52), (74.0, 0.35), (73.0, 0.0), (71.0, 0.29), (75.0, 0.62), (72.0, 0.13), (75.0, 0.28), (76.0, 0.02), (75.0, 0.2), (76.0, 0.68), (75.0, 0.05), (71.0, 0.29), (75.0, 0.4), (75.0, 0.05), (72.0, 0.4), (72.0, 0.04), (75.0, 0.13), (73.0, 0.39), (76.0, 0.12), (74.0, 0.75), (77.0, 0.03), (72.0, 0.37), (71.0, 0.23), (76.0, 0.1), (77.0, 0.01), (80.0, 0.0), (76.0, 0.09), (76.0, 0.08), (77.0, 0.13), (75.0, 0.05), (75.0, 0.0), (75.0, 0.0), (75.0, 0.0), (72.0, 0.02), (74.0, 0.62), (74.0, 0.74), (74.0, 0.24), (76.0, 0.24), (74.0, 0.22), (75.0, 0.55), (73.0, 0.06), (79.0, 0.07), (75.0, 0.24), (72.0, 0.08), (72.0, 0.0), (74.0, 0.19), (72.0, 0.06), (72.0, 0.12), (77.0, 0.36), (71.0, 0.02), (73.0, 0.06), (76.0, 0.01), (77.0, 0.0), (76.0, 0.0), (76.0, 0.01), (74.0, 0.0), (76.0, 0.0), (78.0, 0.0), (74.0, 0.0), (79.0, 0.0), (79.0, 0.0), (69.0, 0.05), (77.0, 0.0), (80.0, 0.0), (75.0, 0.0), (75.0, 0.0), (78.0, 0.0), (71.0, 0.0), (76.0, 0.0), (74.0, 0.0), (78.0, 0.0), (72.0, 0.04), (78.0, 0.05), (85.0, 0.0), (77.0, 0.0), (76.0, 0.0), (76.0, 0.0), (75.0, 0.0), (71.0, 0.02), (70.0, 0.0), (80.0, 0.09), (77.0, 0.0), (70.0, 0.02), (73.0, 0.03), (73.0, 0.02), (76.0, 0.0), (70.0, 0.03), (71.0, 0.58), (80.0, 0.02), (70.0, 0.0), (68.0, 0.0), (74.0, 0.1), (75.0, 0.0), (75.0, 0.0), (78.0, 0.0), (76.0, 0.02), (69.0, 0.0), (73.0, 0.0), (76.0, 0.0), (72.0, 0.01), (72.0, 0.0), (80.0, 0.0), (76.0, 0.0), (71.0, 0.01), (68.0, 0.03), (71.0, 0.1), (72.0, 0.01), (75.0, 0.0), (80.0, 0.0), (75.0, 0.0), (74.0, 0.0), (74.0, 0.0), (69.0, 0.0), (70.0, 0.0), (73.0, 0.01), (76.0, 0.02), (76.0, 0.0), (74.0, 0.0), (71.0, 0.0), (72.0, 0.01), (73.0, 0.0), (77.0, 0.0), (77.0, 0.0), (77.0, 0.0), (79.0, 0.0), (77.0, 0.0), (77.0, 0.03), (78.0, 0.0), (78.0, None), (81.0, 0.0), (76.0, 0.0), (74.0, 0.0), (71.0, 0.02), (78.0, 0.0), (71.0, 0.0), (76.0, 0.1), (81.0, 0.0), (73.0, 0.01), (72.0, 0.0), (72.0, 0.01), (74.0, 0.0), (72.0, 0.0), (79.0, 0.0), (80.0, 0.0), (81.0, 0.0), (75.0, 0.0), (80.0, 0.0), (73.0, 0.0), (74.0, 0.0), (73.0, 0.0), (81.0, 0.0), (79.0, 0.0), (78.0, 0.0), (74.0, 0.0), (74.0, 0.0), (73.0, 0.0), (73.0, 0.07), (77.0, 0.0), (77.0, 0.0), (74.0, 0.0), (73.0, 0.0), (70.0, 0.0), (69.0, 0.0), (72.0, 0.05), (79.0, 0.0), (77.0, 0.0), (70.0, 0.0), (71.0, 0.02), (67.0, 0.06), (66.0, 0.0), (78.0, 0.0), (80.0, 0.08), (80.0, 0.0), (79.0, 0.0), (68.0, 0.0), (67.0, 0.0), (71.0, 0.0), (72.0, None), (79.0, 0.0), (80.0, 0.0), (72.0, 0.0), (68.0, 0.0), (84.0, 0.0), (82.0, 0.0), (79.0, 0.0), (78.0, 0.0), (81.0, 0.0), (77.0, 0.0), (71.0, 0.17), (69.0, 0.01), (73.0, 0.0), (68.0, 0.03), (75.0, 0.0), (79.0, 0.0), (70.0, 0.05), (70.0, 0.05), (73.0, 0.05), (71.0, 0.03), (68.0, 0.02), (78.0, 0.05), (69.0, 0.0), (70.0, 0.01), (67.0, 0.0), (68.0, 0.0), (68.0, 0.0), (71.0, 0.0), (74.0, None), (69.0, 0.0), (69.0, None), (66.0, 0.0), (67.0, None), (69.0, 0.2), (72.0, 0.0), (72.0, 0.0), (72.0, 0.0), (70.0, None), (75.0, 0.0), (73.0, 0.0), (70.0, 0.01), (71.0, 0.01), (70.0, 0.08), (78.0, 0.0), (73.0, 0.1), (68.0, 0.01), (79.0, 0.09), (74.0, 0.13), (75.0, 0.44), (71.0, 0.27), (75.0, 0.0), (76.0, None), (73.0, None), (73.0, 0.05), (74.0, None), (72.0, None), (72.0, 0.04), (72.0, 0.26), (70.0, 0.79), (69.0, 0.88), (73.0, 0.37), (71.0, 0.16), (73.0, 0.02), (72.0, 0.71), (69.0, 0.61), (72.0, 0.22), (66.0, 2.0), (67.0, 2.45), (71.0, 0.76), (71.0, 0.1), (72.0, 0.19), (72.0, 0.23), (71.0, 0.1), (71.0, 0.11), (71.0, 0.17), (69.0, 1.5), (68.0, 0.41), (71.0, 0.14), (73.0, 0.01), (72.0, 0.83), (74.0, 0.18), (70.0, 0.07), (72.0, 1.84), (71.0, 0.91), (71.0, 1.03), (70.0, 1.65), (70.0, 0.68), (69.0, 1.16), (74.0, 0.06), (69.0, 0.29), (72.0, 0.98), (70.0, 0.25), (72.0, 0.06), (72.0, 0.0), (69.0, 0.26), (73.0, 0.22), (71.0, 0.0), (72.0, 0.02), (71.0, 0.0), (72.0, 0.72), (71.0, 0.12), (74.0, 0.3), (74.0, 0.0), (75.0, 0.08), (69.0, 0.08), (75.0, 0.14), (70.0, 0.48), (73.0, 0.21), (72.0, 0.0), (70.0, 0.0), (73.0, 0.1), (71.0, 0.0), (70.0, 0.38), (69.0, 1.84), (71.0, 0.34), (68.0, 0.94), (68.0, 1.13), (68.0, 0.89), (69.0, 0.92), (69.0, 0.73), (69.0, 0.37), (71.0, 0.79), (78.0, 0.71), (72.0, 0.81), (73.0, 0.49), (71.0, 0.03), (72.0, 0.0), (72.0, 0.14), (71.0, 0.07), (74.0, 0.08), (71.0, 0.02), (72.0, 0.02), (72.0, 0.05), (74.0, 0.28), (72.0, 0.47), (69.0, 2.56), (70.0, 0.11), (76.0, 0.3), (70.0, 0.43), (71.0, 0.44), (73.0, 0.05), (68.0, 0.18), (68.0, 1.53), (69.0, 1.96), (70.0, 0.67), (69.0, 0.62), (69.0, 2.03), (70.0, 2.8), (71.0, 0.06), (70.0, 0.34), (67.0, 0.53), (72.0, 0.83), (72.0, 0.26), (75.0, 0.68), (73.0, 0.19), (73.0, 0.09), (72.0, 0.03), (71.0, 0.88), (77.0, 0.15), (73.0, 0.29), (70.0, 1.0), (70.0, 0.11), (76.0, 0.57), (72.0, 0.02), (73.0, 0.01), (77.0, 0.0), (73.0, 0.03), (70.0, 0.38), (68.0, 1.45), (69.0, 0.32), (70.0, 0.2), (70.0, 0.75), (73.0, 0.09), (70.0, 0.03), (69.0, 0.74), (71.0, 0.07), (70.0, 0.97), (70.0, 0.42), (72.0, 0.9), (71.0, 1.29), (70.0, 1.29), (69.0, 2.47), (72.0, 0.27), (72.0, 0.01), (71.0, 1.12), (76.0, 0.16), (71.0, 0.0), (72.0, 0.01), (70.0, 0.34), (72.0, 0.26), (72.0, 0.04), (71.0, None), (72.0, 0.0), (69.0, 0.47), (70.0, 0.67), (73.0, 0.94), (70.0, 0.48), (72.0, 0.54), (72.0, 0.69), (71.0, 0.13), (73.0, 0.1), (72.0, 0.19), (73.0, 0.31), (72.0, 0.78), (71.0, 1.36), (70.0, 0.4), (75.0, 0.17), (72.0, 0.16), (70.0, 1.62), (72.0, 0.0), (70.0, 1.4), (71.0, 0.74), (70.0, 0.1), (73.0, None), (72.0, 0.47), (71.0, 1.26), (71.0, 0.01), (69.0, 1.7), (70.0, 1.4), (73.0, 0.65), (75.0, 0.55), (73.0, 0.08), (72.0, 0.19), (70.0, 1.38), (70.0, 0.12), (69.0, 1.27), (73.0, 0.72), (74.0, 0.79), (72.0, 0.52), (71.0, 0.78), (73.0, 0.2), (72.0, 0.9), (73.0, None), (74.0, 0.7), (72.0, 0.3), (74.0, 0.25), (72.0, 0.35), (74.0, 0.01), (74.0, None), (77.0, 0.82), (74.0, 0.01), (74.0, 0.0), (79.0, 0.01), (75.0, 0.0), (72.0, None), (76.0, 0.7), (74.0, 0.81), (73.0, 0.65), (74.0, 0.81), (77.0, 1.69), (74.0, 0.1), (72.0, 0.1), (77.0, 0.7), (76.0, 0.4), (74.0, 0.31), (75.0, 0.3), (76.0, 0.28), (71.0, 0.5), (73.0, 0.22), (79.0, 0.5), (79.0, 0.02), (74.0, 0.1), (74.0, 0.02), (76.0, 0.04), (75.0, 0.2)]\n"
     ]
    }
   ],
   "source": [
    "# 1. Import the sqlalchemy extract function.\n",
    "from sqlalchemy import extract\n",
    "\n",
    "# 2. Write a query that filters the Measurement table to retrieve the temperatures for the month of June. \n",
    "june = session.query(Measurement.tobs, Measurement.prcp).filter(extract('month', Measurement.date)==6).all()\n",
    "print(june)"
   ]
  },
  {
   "cell_type": "code",
   "execution_count": 72,
   "metadata": {},
   "outputs": [],
   "source": [
    "#  3. Convert the June temperatures to a list.\n",
    "june = list(june)"
   ]
  },
  {
   "cell_type": "code",
   "execution_count": 73,
   "metadata": {},
   "outputs": [],
   "source": [
    "# 4. Create a DataFrame from the list of temperatures for the month of June. \n",
    "june_df = pd.DataFrame(june, columns=['June Temps', 'June Rainfall']"
   ]
  },
  {
   "cell_type": "code",
   "execution_count": 74,
   "metadata": {},
   "outputs": [
    {
     "data": {
      "text/html": [
       "<div>\n",
       "<style scoped>\n",
       "    .dataframe tbody tr th:only-of-type {\n",
       "        vertical-align: middle;\n",
       "    }\n",
       "\n",
       "    .dataframe tbody tr th {\n",
       "        vertical-align: top;\n",
       "    }\n",
       "\n",
       "    .dataframe thead th {\n",
       "        text-align: right;\n",
       "    }\n",
       "</style>\n",
       "<table border=\"1\" class=\"dataframe\">\n",
       "  <thead>\n",
       "    <tr style=\"text-align: right;\">\n",
       "      <th></th>\n",
       "      <th>June Temps</th>\n",
       "      <th>June Rainfall</th>\n",
       "    </tr>\n",
       "  </thead>\n",
       "  <tbody>\n",
       "    <tr>\n",
       "      <th>count</th>\n",
       "      <td>1700.000000</td>\n",
       "      <td>1574.000000</td>\n",
       "    </tr>\n",
       "    <tr>\n",
       "      <th>mean</th>\n",
       "      <td>74.944118</td>\n",
       "      <td>0.136360</td>\n",
       "    </tr>\n",
       "    <tr>\n",
       "      <th>std</th>\n",
       "      <td>3.257417</td>\n",
       "      <td>0.335731</td>\n",
       "    </tr>\n",
       "    <tr>\n",
       "      <th>min</th>\n",
       "      <td>64.000000</td>\n",
       "      <td>0.000000</td>\n",
       "    </tr>\n",
       "    <tr>\n",
       "      <th>25%</th>\n",
       "      <td>73.000000</td>\n",
       "      <td>0.000000</td>\n",
       "    </tr>\n",
       "    <tr>\n",
       "      <th>50%</th>\n",
       "      <td>75.000000</td>\n",
       "      <td>0.020000</td>\n",
       "    </tr>\n",
       "    <tr>\n",
       "      <th>75%</th>\n",
       "      <td>77.000000</td>\n",
       "      <td>0.120000</td>\n",
       "    </tr>\n",
       "    <tr>\n",
       "      <th>max</th>\n",
       "      <td>85.000000</td>\n",
       "      <td>4.430000</td>\n",
       "    </tr>\n",
       "  </tbody>\n",
       "</table>\n",
       "</div>"
      ],
      "text/plain": [
       "        June Temps  June Rainfall\n",
       "count  1700.000000    1574.000000\n",
       "mean     74.944118       0.136360\n",
       "std       3.257417       0.335731\n",
       "min      64.000000       0.000000\n",
       "25%      73.000000       0.000000\n",
       "50%      75.000000       0.020000\n",
       "75%      77.000000       0.120000\n",
       "max      85.000000       4.430000"
      ]
     },
     "execution_count": 74,
     "metadata": {},
     "output_type": "execute_result"
    }
   ],
   "source": [
    "# 5. Calculate and print out the summary statistics for the June temperature DataFrame.\n",
    "june_df.describe()"
   ]
  },
  {
   "cell_type": "code",
   "execution_count": 78,
   "metadata": {},
   "outputs": [
    {
     "data": {
      "text/plain": [
       "(0.0, 400.0)"
      ]
     },
     "execution_count": 78,
     "metadata": {},
     "output_type": "execute_result"
    },
    {
     "data": {
      "image/png": "[encoded data removed]",
      "text/plain": [
       "<Figure size 432x288 with 1 Axes>"
      ]
     },
     "metadata": {
      "needs_background": "light"
     },
     "output_type": "display_data"
    }
   ],
   "source": [
    "june_temp_df = june_df['June Temps']\n",
    "june_temp_df.plot.hist(bins=15)\n",
    "plt.tight_layout()\n",
    "plt.title('June Temperatures')\n",
    "plt.xlim([55, 85])\n",
    "plt.ylim([0,400])"
   ]
  },
  {
   "cell_type": "markdown",
   "metadata": {},
   "source": [
    "## D2: Determine the Summary Statistics for December"
   ]
  },
  {
   "cell_type": "code",
   "execution_count": 46,
   "metadata": {},
   "outputs": [
    {
     "name": "stdout",
     "output_type": "stream",
     "text": [
      "[(76.0, 0.04), (74.0, 0.0), (74.0, 0.0), (64.0, 0.0), (64.0, 0.0), (67.0, 0.0), (77.0, 0.0), (66.0, 1.58), (69.0, 0.77), (68.0, 0.0), (68.0, 0.0), (71.0, 0.0), (74.0, 0.0), (67.0, 0.0), (66.0, 0.0), (69.0, 0.0), (71.0, 1.4), (70.0, 0.0), (70.0, 0.0), (74.0, None), (74.0, 0.13), (71.0, 0.55), (75.0, 0.06), (75.0, 0.01), (72.0, 0.0), (69.0, 0.03), (68.0, 0.08), (73.0, 0.0), (74.0, 0.0), (73.0, 0.0), (73.0, 0.0), (73.0, 0.0), (73.0, 0.0), (71.0, 0.13), (73.0, 0.07), (73.0, 0.07), (77.0, 0.08), (72.0, 0.4), (71.0, 0.7), (73.0, 0.0), (70.0, 0.01), (73.0, 0.07), (69.0, 0.02), (74.0, 0.15), (72.0, 0.02), (71.0, 0.18), (72.0, 0.03), (72.0, 0.04), (70.0, 0.1), (73.0, 0.03), (73.0, 0.0), (72.0, 0.0), (73.0, 0.0), (73.0, 0.0), (72.0, 0.0), (63.0, 0.01), (65.0, 0.0), (71.0, 0.0), (76.0, 0.0), (70.0, 0.2), (76.0, 0.01), (69.0, None), (69.0, None), (69.0, 0.0), (74.0, 0.0), (76.0, 0.0), (74.0, 0.0), (73.0, 0.0), (73.0, 0.14), (74.0, 0.09), (73.0, 0.01), (73.0, 0.02), (73.0, 0.02), (74.0, 0.12), (74.0, 0.0), (71.0, 0.1), (73.0, 0.0), (72.0, 0.0), (64.0, 0.0), (66.0, 0.0), (73.0, 0.03), (72.0, 0.0), (65.0, 0.0), (64.0, 0.0), (69.0, 0.0), (68.0, 0.04), (77.0, 0.0), (71.0, 2.01), (71.0, 0.01), (69.0, 0.0), (68.0, 0.0), (68.0, 0.0), (69.0, 0.0), (70.0, 0.0), (72.0, 0.0), (76.0, 0.03), (75.0, 0.0), (69.0, 0.0), (71.0, 0.02), (71.0, 0.0), (71.0, 0.0), (68.0, 1.1), (65.0, 0.02), (70.0, 0.0), (69.0, 0.16), (69.0, 0.09), (71.0, 0.02), (67.0, 0.0), (73.0, 0.0), (74.0, 0.05), (73.0, 0.02), (67.0, 0.0), (74.0, 0.0), (75.0, 0.0), (75.0, 0.0), (74.0, 0.0), (67.0, 0.0), (73.0, 0.0), (73.0, 0.02), (71.0, 0.15), (72.0, 0.09), (71.0, 0.0), (68.0, 0.0), (65.0, 0.0), (69.0, 0.0), (70.0, 0.0), (70.0, 0.0), (74.0, 0.05), (71.0, 0.01), (74.0, 0.0), (73.0, 0.03), (72.0, 0.02), (74.0, 0.01), (72.0, 0.01), (74.0, 0.0), (75.0, 0.0), (74.0, 0.0), (70.0, 0.0), (74.0, 0.0), (70.0, 0.93), (66.0, 0.04), (61.0, 0.02), (63.0, 0.0), (63.0, 0.0), (63.0, 0.0), (63.0, 0.0), (67.0, 0.0), (56.0, 0.05), (75.0, 0.0), (77.0, 0.0), (75.0, 0.06), (75.0, 0.02), (75.0, 0.0), (75.0, 0.0), (71.0, 0.0), (70.0, 0.0), (74.0, 0.0), (74.0, 0.06), (75.0, 0.0), (72.0, 0.39), (70.0, 0.0), (66.0, 0.0), (74.0, 0.08), (75.0, 0.0), (74.0, 0.02), (75.0, 0.08), (76.0, 0.13), (74.0, 0.03), (75.0, 0.01), (74.0, 0.0), (73.0, 0.0), (68.0, 0.0), (73.0, 0.0), (74.0, 0.02), (74.0, 0.43), (77.0, 0.01), (70.0, 0.0), (70.0, 0.0), (69.0, 0.0), (75.0, 0.12), (72.0, 0.03), (69.0, 0.0), (71.0, 0.03), (68.0, 0.43), (67.0, 0.02), (69.0, 0.0), (73.0, 0.03), (70.0, 0.52), (70.0, 0.05), (70.0, 0.04), (66.0, 0.01), (67.0, 0.05), (70.0, 0.03), (66.0, 0.0), (62.0, 0.0), (71.0, 0.01), (73.0, 0.13), (69.0, 0.01), (77.0, 0.0), (74.0, 0.0), (71.0, 0.01), (72.0, 0.01), (74.0, 0.01), (74.0, 0.0), (74.0, 0.02), (74.0, 0.0), (71.0, 0.02), (73.0, 0.04), (69.0, 0.12), (66.0, 0.01), (73.0, 0.76), (72.0, 0.13), (73.0, 0.16), (74.0, 0.0), (73.0, 0.0), (66.0, 0.0), (64.0, 0.0), (66.0, 0.0), (75.0, 0.0), (65.0, 1.95), (69.0, 0.62), (71.0, 0.15), (69.0, 0.47), (78.0, 0.0), (74.0, 0.0), (68.0, 0.0), (68.0, 0.0), (70.0, 0.0), (70.0, 3.18), (71.0, 4.94), (71.0, 0.43), (71.0, 0.01), (71.0, 0.02), (69.0, 0.0), (69.0, 2.95), (72.0, 0.99), (76.0, 0.46), (72.0, 0.63), (73.0, 0.02), (73.0, 0.11), (74.0, 0.05), (69.0, 0.11), (68.0, 0.14), (74.0, 0.03), (73.0, 0.01), (73.0, 0.0), (72.0, 0.0), (71.0, 0.04), (71.0, 0.08), (68.0, 0.07), (72.0, 0.11), (71.0, 0.76), (72.0, 0.58), (71.0, 1.55), (71.0, 0.05), (72.0, 0.02), (71.0, 0.0), (71.0, 0.02), (72.0, 0.11), (72.0, 0.05), (72.0, 0.02), (69.0, 0.24), (71.0, 0.06), (71.0, 0.02), (69.0, 0.02), (74.0, 0.05), (72.0, 0.0), (71.0, 0.0), (71.0, 0.03), (72.0, 0.01), (71.0, 0.02), (67.0, 0.04), (65.0, 0.0), (70.0, 0.0), (76.0, 0.0), (68.0, 0.18), (71.0, 0.07), (71.0, 0.0), (68.0, 0.0), (70.0, 0.0), (73.0, 0.0), (73.0, 0.03), (72.0, 0.0), (71.0, 0.07), (70.0, 0.1), (72.0, 0.08), (71.0, 0.1), (72.0, 0.04), (72.0, 0.02), (71.0, 0.2), (70.0, 0.24), (71.0, 0.08), (71.0, 0.06), (71.0, 0.07), (66.0, 0.02), (65.0, 0.0), (73.0, 0.0), (72.0, 0.01), (72.0, 0.0), (65.0, 0.0), (65.0, 0.0), (68.0, 0.21), (67.0, 0.17), (76.0, 0.0), (70.0, 0.93), (71.0, 0.8), (69.0, 0.0), (67.0, 0.0), (69.0, 0.0), (71.0, 0.0), (69.0, 0.0), (72.0, 0.0), (76.0, 0.01), (75.0, 0.13), (72.0, 0.0), (75.0, 0.01), (71.0, 0.0), (69.0, 0.0), (68.0, 1.31), (68.0, 0.01), (72.0, 0.01), (70.0, 1.0), (72.0, 0.41), (75.0, 0.01), (69.0, 0.02), (72.0, 0.02), (73.0, 0.01), (73.0, 0.02), (72.0, 0.02), (73.0, 0.0), (74.0, 0.02), (73.0, 0.03), (72.0, 0.0), (68.0, 0.09), (72.0, 0.0), (71.0, 0.0), (69.0, 0.05), (67.0, 1.35), (70.0, 0.01), (72.0, 0.0), (67.0, 0.0), (67.0, 0.0), (69.0, 0.0), (67.0, 0.0), (74.0, 0.05), (70.0, 0.12), (73.0, 0.03), (71.0, 0.11), (71.0, 0.0), (71.0, 0.03), (71.0, 0.14), (72.0, 0.09), (76.0, 0.01), (78.0, 0.0), (76.0, 0.0), (73.0, 0.0), (70.0, 1.1), (68.0, 1.24), (77.0, 0.09), (66.0, 0.0), (65.0, 0.0), (69.0, 0.0), (69.0, 0.0), (66.0, 0.0), (64.0, 0.72), (74.0, 0.03), (75.0, 0.08), (80.0, 0.01), (72.0, 0.28), (73.0, 0.52), (70.0, 0.0), (69.0, 0.08), (77.0, 0.1), (74.0, 0.08), (77.0, 0.0), (72.0, 0.62), (69.0, 0.0), (69.0, 0.69), (75.0, 0.24), (75.0, 0.08), (72.0, 0.13), (73.0, 0.28), (78.0, 0.36), (75.0, 0.2), (75.0, 0.03), (74.0, 0.01), (73.0, 0.11), (70.0, 0.0), (70.0, 0.52), (72.0, 0.19), (74.0, 0.25), (74.0, 0.4), (67.0, 0.11), (74.0, 0.03), (70.0, 0.06), (73.0, 0.33), (71.0, 0.3), (71.0, 0.04), (69.0, 0.1), (68.0, 0.34), (70.0, 0.02), (71.0, 0.17), (72.0, 0.03), (70.0, 0.34), (71.0, 0.02), (72.0, 0.02), (68.0, 0.01), (68.0, 0.1), (70.0, 0.05), (70.0, 0.02), (63.0, 0.01), (71.0, 0.11), (67.0, 0.29), (69.0, 0.21), (74.0, 0.02), (72.0, 0.03), (70.0, 0.17), (69.0, 0.1), (73.0, 0.14), (74.0, 0.03), (74.0, 0.26), (73.0, 0.03), (71.0, 0.09), (72.0, 0.18), (69.0, 0.21), (71.0, 0.62), (73.0, 0.03), (73.0, 0.06), (71.0, 0.22), (72.0, 0.0), (71.0, 0.0), (64.0, 0.0), (71.0, 0.0), (62.0, 0.0), (70.0, 0.12), (64.0, 2.01), (64.0, 0.26), (70.0, 0.01), (70.0, 0.65), (69.0, 0.0), (72.0, 0.0), (68.0, 0.0), (68.0, 0.0), (65.0, 0.0), (67.0, 2.43), (68.0, 2.55), (70.0, 0.49), (67.0, 0.05), (73.0, 0.02), (70.0, 0.0), (68.0, None), (72.0, 0.15), (69.0, 0.96), (71.0, 0.01), (70.0, 0.05), (75.0, 0.0), (70.0, 0.04), (68.0, 0.24), (73.0, 0.02), (71.0, 0.0), (71.0, 0.0), (70.0, 0.0), (70.0, 0.04), (70.0, 0.0), (70.0, 0.02), (72.0, 0.36), (74.0, None), (71.0, 0.47), (70.0, 0.1), (70.0, 0.04), (69.0, 0.07), (71.0, None), (70.0, 0.16), (70.0, 0.05), (72.0, 0.25), (72.0, 0.12), (72.0, None), (72.0, None), (72.0, 0.03), (70.0, None), (66.0, 0.0), (71.0, 0.08), (68.0, 0.0), (79.0, None), (76.0, 0.0), (73.0, 0.08), (75.0, 0.0), (71.0, 0.0), (76.0, None), (74.0, 0.0), (73.0, 0.03), (73.0, 0.25), (74.0, 0.22), (73.0, None), (72.0, 0.22), (76.0, 0.29), (75.0, None), (77.0, 0.0), (74.0, None), (76.0, None), (75.0, None), (76.0, None), (73.0, None), (75.0, 0.2), (73.0, 0.0), (73.0, 0.0), (74.0, 0.05), (78.0, 0.04), (78.0, 0.0), (78.0, 0.0), (75.0, 0.05), (75.0, 0.0), (75.0, 0.0), (74.0, 0.07), (77.0, 0.0), (72.0, None), (72.0, 0.0), (73.0, 0.02), (71.0, 0.52), (75.0, 0.1), (76.0, 0.07), (74.0, None), (75.0, 0.0), (74.0, None), (75.0, 0.03), (73.0, 0.01), (72.0, 0.0), (72.0, 0.0), (75.0, 0.23), (74.0, 0.0), (74.0, 0.0), (72.0, 0.24), (73.0, 1.51), (70.0, 0.26), (76.0, 0.48), (78.0, None), (76.0, 0.0), (78.0, 0.0), (74.0, 0.1), (71.0, 0.07), (78.0, 0.0), (70.0, None), (74.0, 0.0), (74.0, 0.01), (75.0, 0.03), (76.0, 0.01), (78.0, 0.0), (72.0, None), (73.0, 0.58), (76.0, None), (72.0, None), (72.0, None), (78.0, 0.0), (76.0, 0.0), (76.0, 0.17), (77.0, 0.03), (79.0, None), (73.0, 0.05), (79.0, 0.02), (77.0, 0.12), (78.0, 0.03), (76.0, 0.17), (78.0, 0.0), (77.0, 0.05), (79.0, 0.0), (75.0, 0.05), (77.0, 0.13), (76.0, 0.08), (78.0, 0.18), (78.0, None), (77.0, 0.13), (78.0, 0.1), (78.0, None), (76.0, None), (75.0, 0.21), (72.0, 0.01), (75.0, 0.07), (77.0, 0.4), (75.0, 0.26), (77.0, 0.0), (76.0, 0.2), (76.0, None), (75.0, 0.02), (72.0, 0.26), (76.0, 0.0), (75.0, None), (72.0, 0.34), (72.0, 0.12), (75.0, 0.07), (69.0, 0.0), (75.0, 0.0), (74.0, 0.04), (78.0, 0.0), (77.0, 0.0), (76.0, 0.09), (72.0, 0.05), (73.0, 0.03), (74.0, 0.13), (74.0, None), (74.0, 0.02), (73.0, 0.01), (73.0, 0.56), (71.0, 0.29), (72.0, 0.36), (72.0, 0.7), (75.0, 0.26), (66.0, 0.0), (66.0, 0.0), (67.0, 0.0), (76.0, 0.02), (68.0, 1.75), (69.0, 0.0), (71.0, 0.0), (70.0, 0.0), (68.0, 0.0), (66.0, 0.0), (69.0, 0.0), (69.0, 0.0), (71.0, 0.0), (72.0, 0.0), (69.0, 0.07), (72.0, 0.05), (70.0, 0.16), (76.0, None), (69.0, 2.8), (71.0, 0.86), (72.0, 0.02), (71.0, None), (78.0, 0.0), (73.0, 0.0), (74.0, 0.02), (68.0, None), (71.0, None), (76.0, 0.0), (75.0, 0.0), (74.0, 0.0), (73.0, 0.04), (73.0, 0.07), (74.0, None), (69.0, None), (74.0, None), (72.0, None), (70.0, None), (67.0, 0.0), (69.0, 0.02), (73.0, None), (75.0, 0.0), (74.0, 0.0), (72.0, 0.0), (71.0, 0.0), (67.0, None), (74.0, 0.02), (70.0, None), (70.0, None), (70.0, None), (71.0, None), (70.0, None), (71.0, None), (71.0, 0.0), (68.0, None), (74.0, 0.28), (75.0, 0.0), (74.0, 0.05), (77.0, 0.15), (76.0, None), (77.0, None), (75.0, None), (76.0, 0.0), (75.0, 0.06), (77.0, 0.1), (75.0, None), (77.0, None), (74.0, None), (78.0, None), (77.0, 0.04), (76.0, 0.1), (69.0, 0.02), (70.0, 0.0), (64.0, None), (75.0, 0.0), (69.0, None), (65.0, 0.28), (76.0, None), (81.0, None), (71.0, None), (71.0, None), (71.0, None), (82.0, None), (74.0, None), (75.0, 0.11), (77.0, None), (74.0, None), (68.0, None), (72.0, None), (70.0, None), (68.0, None), (74.0, None), (71.0, None), (70.0, 0.27), (70.0, None), (70.0, 0.02), (68.0, None), (68.0, None), (68.0, None), (66.0, None), (71.0, None), (76.0, None), (73.0, 0.06), (70.0, None), (68.0, None), (71.0, None), (71.0, None), (68.0, None), (71.0, None), (70.0, 0.78), (73.0, None), (78.0, 0.02), (76.0, 0.02), (73.0, 0.33), (74.0, 1.43), (63.0, 2.5), (72.0, 1.5), (75.0, None), (74.0, 0.13), (72.0, 0.1), (68.0, 0.05), (74.0, None), (73.0, None), (73.0, None), (72.0, None), (73.0, 0.16), (72.0, None), (78.0, 0.03), (74.0, 0.02), (74.0, 0.01), (78.0, 0.0), (78.0, 0.0), (61.0, 0.0), (69.0, 0.0), (65.0, 0.15), (77.0, 0.03), (67.0, 2.02), (69.0, 0.3), (75.0, 0.09), (67.0, 0.02), (71.0, 0.04), (74.0, 0.0), (66.0, 0.0), (66.0, 0.0), (77.0, 0.0), (70.0, 2.86), (73.0, 4.95), (71.0, 0.63), (71.0, 0.58), (71.0, 0.11), (67.0, 0.02), (71.0, 0.02), (74.0, 0.74), (76.0, 0.09), (72.0, 0.07), (74.0, 0.04), (75.0, 0.27), (69.0, 0.01), (69.0, 0.12), (69.0, 0.42), (75.0, 0.02), (73.0, 0.0), (73.0, 0.0), (72.0, 0.01), (72.0, 0.0), (72.0, 0.0), (74.0, 0.08), (72.0, 0.07), (73.0, 0.55), (73.0, 0.21), (73.0, 0.39), (73.0, 0.02), (74.0, 0.09), (73.0, 0.02), (71.0, 0.25), (72.0, 0.08), (73.0, 0.1), (74.0, 0.24), (72.0, 0.19), (73.0, 0.02), (73.0, 0.01), (71.0, 0.1), (73.0, 0.07), (75.0, 0.05), (71.0, 0.04), (72.0, 0.0), (73.0, 0.01), (71.0, 0.0), (65.0, 0.0), (77.0, 0.0), (72.0, 0.0), (78.0, 0.0), (71.0, 0.08), (72.0, 1.02), (71.0, 0.01), (72.0, 0.0), (76.0, 0.0), (75.0, 0.0), (75.0, 0.0), (76.0, 0.0), (73.0, 0.04), (72.0, 0.13), (74.0, 0.09), (74.0, 0.12), (74.0, 0.04), (73.0, 0.09), (77.0, 0.22), (73.0, 0.04), (70.0, 0.1), (72.0, 0.02), (76.0, 0.0), (65.0, 0.0), (74.0, 0.0), (73.0, 0.1), (77.0, 0.03), (76.0, 0.0), (69.0, 0.0), (78.0, 0.0), (76.0, 0.03), (68.0, 0.0), (76.0, 0.09), (68.0, 2.25), (79.0, 0.09), (69.0, 0.0), (64.0, 0.0), (70.0, 0.0), (69.0, 0.0), (73.0, 0.0), (70.0, 0.0), (74.0, 0.03), (76.0, 0.0), (76.0, 0.02), (69.0, 0.02), (73.0, 0.0), (73.0, 0.1), (65.0, 0.88), (70.0, 0.0), (72.0, 0.0), (72.0, 0.35), (75.0, 0.01), (74.0, 0.0), (69.0, 0.01), (73.0, 0.08), (75.0, 0.04), (76.0, 0.0), (74.0, 0.0), (73.0, 0.0), (74.0, 0.06), (71.0, 0.16), (72.0, 0.01), (73.0, 0.17), (72.0, 0.0), (72.0, 0.0), (73.0, 0.02), (72.0, 1.02), (75.0, 0.0), (76.0, 0.0), (67.0, 0.0), (69.0, 0.0), (70.0, 0.0), (75.0, 0.0), (74.0, 0.16), (71.0, 0.08), (74.0, 0.11), (71.0, 0.2), (72.0, 0.05), (74.0, 0.05), (75.0, 0.09), (73.0, 0.0), (75.0, 0.0), (76.0, 0.0), (68.0, None), (71.0, 1.52), (68.0, 1.01), (66.0, 0.53), (63.0, 0.0), (62.0, 0.0), (67.0, 0.0), (68.0, 0.0), (63.0, 0.0), (56.0, 0.63), (76.0, None), (75.0, 0.03), (74.0, 0.0), (76.0, 0.0), (69.0, None), (71.0, 0.04), (72.0, 0.13), (74.0, 0.14), (75.0, 0.06), (72.0, 0.41), (78.0, 0.01), (69.0, 0.03), (75.0, 0.28), (75.0, 0.0), (74.0, 0.06), (74.0, 0.12), (76.0, 0.24), (73.0, 0.04), (75.0, None), (75.0, 0.0), (74.0, 0.0), (79.0, 0.23), (75.0, 0.15), (76.0, 0.48), (76.0, 0.05), (69.0, 0.01), (72.0, None), (76.0, 0.16), (75.0, 0.01), (75.0, 0.02), (75.0, 0.32), (70.0, 0.45), (70.0, 0.0), (74.0, 0.07), (73.0, 0.01), (72.0, None), (78.0, 0.06), (67.0, 0.0), (69.0, 0.15), (71.0, 0.05), (74.0, 0.0), (63.0, 0.0), (76.0, 0.16), (76.0, 0.27), (71.0, 0.02), (76.0, 0.01), (77.0, 0.06), (73.0, 0.14), (71.0, 0.02), (78.0, 0.06), (78.0, 0.0), (75.0, 0.06), (75.0, 0.0), (72.0, 0.06), (77.0, 0.05), (72.0, 0.07), (72.0, 1.35), (71.0, 0.16), (72.0, 0.47), (74.0, 0.0), (66.0, 0.0), (61.0, 0.0), (58.0, 0.0), (60.0, 0.0), (71.0, 0.07), (65.0, 1.72), (72.0, 0.89), (70.0, 0.31), (68.0, 0.22), (67.0, 0.02), (71.0, 0.0), (65.0, 0.0), (64.0, 0.0), (65.0, 0.0), (69.0, 2.77), (70.0, 3.06), (70.0, 0.71), (68.0, 0.02), (69.0, 0.23), (71.0, 0.02), (70.0, 3.14), (71.0, 2.49), (76.0, 0.13), (71.0, 0.58), (72.0, 0.06), (73.0, 0.04), (77.0, 0.1), (67.0, 0.05), (69.0, 0.29), (72.0, 0.07), (74.0, 0.02), (71.0, 0.01), (70.0, 0.0), (68.0, 0.05), (70.0, 0.0), (66.0, 0.1), (72.0, 0.23), (70.0, 1.16), (70.0, 0.65), (70.0, 1.02), (70.0, 0.07), (73.0, 0.3), (71.0, 0.03), (69.0, 0.38), (73.0, 0.1), (72.0, 0.29), (71.0, 0.01), (69.0, 0.58), (70.0, 0.11), (69.0, 0.12), (70.0, 0.11), (75.0, 0.04), (71.0, 0.0), (70.0, 0.05), (69.0, 0.02), (71.0, 0.0), (65.0, 0.01), (67.0, 0.1), (72.0, 0.0), (67.0, 0.0), (76.0, 0.0), (67.0, 0.02), (72.0, 0.32), (69.0, 0.01), (66.0, 0.0), (75.0, 0.0), (74.0, 0.0), (72.0, 0.08), (72.0, 0.0), (72.0, 0.02), (68.0, 0.13), (74.0, 0.25), (73.0, 0.21), (73.0, 0.08), (72.0, 0.14), (70.0, 0.46), (70.0, 0.25), (71.0, 0.34), (70.0, 0.05), (72.0, 0.01), (65.0, 0.1), (62.0, 0.0), (73.0, 0.04), (71.0, 0.0), (70.0, 0.0), (62.0, 0.0), (69.0, 0.01), (69.0, 0.35), (66.0, 0.42), (72.0, 0.12), (73.0, 1.71), (70.0, 0.57), (66.0, 0.01), (64.0, 0.0), (65.0, 0.0), (73.0, 0.01), (74.0, 0.0), (67.0, 0.0), (73.0, 0.04), (70.0, 0.17), (67.0, 0.03), (71.0, 0.04), (78.0, 0.08), (69.0, 0.06), (63.0, 1.97), (64.0, 0.02), (66.0, 0.02), (69.0, 0.77), (69.0, 1.14), (71.0, 0.07), (72.0, 0.03), (69.0, 0.06), (70.0, 0.09), (73.0, 0.03), (68.0, 0.05), (69.0, 0.01), (73.0, 0.01), (73.0, 0.0), (70.0, 0.0), (65.0, 0.08), (70.0, 0.0), (68.0, 0.0), (68.0, 0.41), (66.0, 1.56), (68.0, 0.04), (65.0, 0.63), (62.0, 0.01), (62.0, 0.0), (65.0, 0.0), (61.0, 0.0), (70.0, 0.21), (68.0, 0.07), (67.0, 0.01), (68.0, 0.13), (71.0, 0.0), (69.0, 0.08), (71.0, 0.07), (71.0, 0.11), (71.0, 0.08), (72.0, 0.0), (72.0, 0.0), (68.0, 0.0), (69.0, 1.07), (66.0, 1.1), (60.0, 0.36), (63.0, 0.0), (68.0, 0.0), (64.0, 0.0), (63.0, 0.0), (63.0, 0.0), (59.0, 0.66), (73.0, 0.02), (74.0, 0.02), (75.0, 0.22), (75.0, 0.03), (70.0, 0.0), (72.0, 0.1), (69.0, 0.02), (68.0, 0.02), (74.0, 0.08), (72.0, 0.1), (75.0, 0.15), (79.0, 0.31), (69.0, 0.03), (67.0, 0.13), (73.0, 0.35), (74.0, 0.03), (75.0, 0.09), (72.0, 0.17), (76.0, 0.13), (74.0, 0.05), (75.0, 0.15), (74.0, 0.04), (74.0, 0.1), (76.0, 0.45), (74.0, 0.47), (75.0, 0.22), (75.0, 0.8), (73.0, 0.0), (76.0, 0.16), (74.0, 0.5), (73.0, 0.09), (74.0, 0.37), (70.0, 0.35), (72.0, 0.77), (70.0, 0.04), (67.0, 0.22), (67.0, 0.0), (69.0, 0.12), (70.0, 0.07), (68.0, 0.31), (69.0, 0.02), (69.0, 0.0), (66.0, 0.0), (65.0, 0.04), (68.0, 0.92), (62.0, 0.14), (75.0, 0.03), (70.0, 0.07), (69.0, 0.16), (76.0, 0.03), (76.0, 0.0), (74.0, 0.11), (73.0, 0.86), (71.0, 0.24), (74.0, 0.2), (74.0, 0.02), (72.0, 0.22), (71.0, 0.05), (72.0, 0.09), (74.0, 0.52), (69.0, 0.29), (67.0, 0.25), (70.0, 0.13), (74.0, 0.0), (74.0, 0.01), (75.0, 0.0), (69.0, 0.0), (65.0, 0.0), (66.0, 0.0), (68.0, 0.0), (77.0, 0.04), (65.0, 1.8), (72.0, 0.8), (65.0, 0.01), (66.0, 0.0), (74.0, 0.01), (66.0, 0.0), (63.0, 0.0), (63.0, 0.0), (69.0, 0.0), (69.0, 4.0), (73.0, 3.05), (72.0, 0.17), (68.0, 0.04), (67.0, 0.0), (69.0, 0.05), (74.0, 0.01), (72.0, 3.0), (76.0, 0.01), (70.0, 1.67), (73.0, 0.0), (70.0, 0.02), (76.0, 0.0), (66.0, 0.0), (69.0, 0.01), (69.0, 0.0), (70.0, 0.0), (71.0, 0.0), (73.0, 0.0), (65.0, 0.0), (71.0, 0.0), (65.0, 0.05), (75.0, 0.03), (72.0, 0.29), (74.0, 0.03), (67.0, 0.1), (65.0, 0.06), (68.0, 0.01), (66.0, 0.01), (73.0, 0.0), (74.0, 0.0), (76.0, 0.0), (72.0, 0.0), (69.0, 0.03), (71.0, 0.02), (70.0, 0.01), (70.0, 0.01), (73.0, 0.0), (71.0, 0.0), (76.0, 0.0), (72.0, 0.0), (77.0, 0.0), (70.0, 0.0), (65.0, 0.01), (72.0, 0.0), (75.0, 0.0), (68.0, 0.0), (72.0, 0.08), (64.0, 0.01), (75.0, 0.0), (69.0, 0.0), (80.0, 0.0), (73.0, 0.0), (73.0, 0.0), (73.0, 0.0), (72.0, 0.0), (73.0, 0.15), (75.0, 0.0), (76.0, 0.0), (74.0, 0.0), (72.0, 0.02), (72.0, 0.0), (70.0, 0.0), (70.0, 0.0), (71.0, 0.01), (61.0, 0.0), (65.0, 0.0), (74.0, 0.0), (71.0, 0.0), (63.0, 0.0), (64.0, 0.0), (66.0, 0.0), (68.0, 0.0), (66.0, 0.0), (70.0, 0.46), (68.0, 0.87), (68.0, 0.0), (66.0, 0.01), (75.0, 0.01), (67.0, 0.0), (70.0, 0.0), (72.0, 0.0), (69.0, 0.0), (72.0, 0.0), (69.0, 0.0), (65.0, 0.02), (71.0, 0.0), (73.0, 0.0), (69.0, 0.06), (69.0, 2.4), (63.0, 0.01), (63.0, 0.01), (71.0, 0.05), (79.0, 0.0), (67.0, 0.0), (67.0, 0.0), (64.0, 0.08), (63.0, 0.0), (68.0, 0.0), (77.0, 0.0), (79.0, 0.0), (74.0, 0.0), (68.0, 0.0), (64.0, 0.0), (70.0, 0.0), (62.0, 0.0), (68.0, 0.17), (67.0, 0.09), (70.0, 0.0), (66.0, 0.0), (64.0, 0.0), (62.0, 0.01), (64.0, 0.0), (63.0, 0.0), (69.0, 0.01), (64.0, 0.0), (70.0, None), (72.0, 0.0), (72.0, 0.0), (64.0, 0.03), (71.0, 0.0), (68.0, 0.0), (81.0, 0.0), (78.0, 0.0), (69.0, 0.01), (72.0, 0.1), (70.0, 0.0), (62.0, 0.0), (76.0, 0.0), (72.0, 0.0), (76.0, 0.0), (57.0, 0.0), (64.0, 0.0), (57.0, 0.7), (71.0, 1.48), (70.0, 0.18), (67.0, 1.59), (77.0, 0.19), (69.0, 0.0), (61.0, 0.0), (62.0, 0.0), (63.0, 0.0), (73.0, 0.0), (64.0, 1.86), (67.0, 0.58), (69.0, 0.45), (80.0, 0.18), (71.0, 0.0), (73.0, 0.0), (65.0, 0.0), (68.0, 0.0), (68.0, 0.0), (69.0, 2.15), (72.0, 5.04), (69.0, 1.44), (69.0, 0.04), (67.0, 0.0), (69.0, 0.15), (73.0, 0.0), (71.0, 0.99), (71.0, 0.02), (70.0, 0.04), (71.0, 0.19), (70.0, 0.3), (75.0, 0.01), (71.0, 0.16), (73.0, 0.46), (71.0, 0.11), (71.0, 0.03), (68.0, 0.22), (67.0, 0.12), (70.0, 0.26), (67.0, 0.53), (69.0, None), (71.0, 1.35), (69.0, 1.71), (69.0, 6.42), (68.0, 1.37), (69.0, 1.18), (69.0, 1.09), (67.0, 0.63), (69.0, 0.3), (68.0, 0.87), (70.0, 0.16), (68.0, 1.52), (69.0, 0.27), (71.0, 0.42), (65.0, 0.8), (69.0, 0.58), (69.0, 0.05), (69.0, 0.06), (69.0, 0.06), (70.0, 0.0), (73.0, 0.05), (67.0, 0.25), (74.0, 0.0), (77.0, 0.01), (74.0, 0.0), (73.0, 0.0), (71.0, 0.04), (73.0, 0.0), (68.0, 0.0), (69.0, 0.01), (71.0, 0.04), (72.0, 0.12), (72.0, 0.0), (67.0, 0.24), (67.0, 0.44), (69.0, 0.72), (66.0, 0.44), (66.0, 0.48), (69.0, 0.54), (66.0, 2.25), (68.0, 0.34), (65.0, 1.8), (68.0, 0.67), (67.0, 0.12), (71.0, 0.0), (65.0, 0.0), (71.0, 0.0), (69.0, 0.21), (69.0, 0.02), (62.0, 0.0), (62.0, 0.0), (67.0, 0.1), (65.0, 0.04), (68.0, 0.14), (67.0, 2.02), (75.0, 0.15), (68.0, 0.0), (68.0, 0.0), (70.0, 0.0), (83.0, None), (68.0, 0.0), (70.0, 0.35), (70.0, 0.37), (68.0, 0.09), (76.0, 0.39), (72.0, 0.54), (68.0, 0.01), (64.0, 1.13), (72.0, 0.0), (72.0, 0.03), (68.0, 2.0), (70.0, 1.02), (69.0, 1.14), (68.0, None), (70.0, 0.03), (67.0, 0.41), (70.0, 0.14), (70.0, 0.0), (71.0, 0.03), (70.0, 0.47), (69.0, 0.02), (71.0, 0.0), (68.0, 0.0), (70.0, 0.07), (67.0, 1.82), (70.0, 1.41), (73.0, 0.0), (70.0, 0.11), (66.0, 0.0), (70.0, None), (72.0, 0.0), (71.0, 1.09), (68.0, 0.83), (71.0, 0.0), (67.0, 1.75), (65.0, 0.55), (66.0, 0.58), (70.0, 0.8), (69.0, 0.21), (70.0, 0.51), (72.0, None), (67.0, 0.59), (68.0, 4.03), (64.0, 0.4), (66.0, 0.03), (65.0, 0.0), (62.0, 0.0), (68.0, 0.0), (67.0, 0.0), (73.0, 0.03), (70.0, 0.08), (71.0, 0.57), (71.0, 0.01), (70.0, 0.05), (71.0, 0.05), (69.0, 0.04), (70.0, 0.12), (73.0, 0.36), (70.0, 0.9), (72.0, 0.13), (71.0, 0.21), (69.0, 0.0), (74.0, None), (73.0, 0.07), (69.0, 0.43), (71.0, 0.59), (68.0, 1.19), (72.0, 0.43), (71.0, None), (70.0, 1.56), (72.0, 0.01), (71.0, 1.19), (69.0, 0.81), (71.0, 2.21), (67.0, None), (71.0, 0.03), (69.0, 0.1), (71.0, 0.72), (71.0, 1.27), (67.0, 1.62), (76.0, 0.31), (67.0, 1.6), (67.0, 0.0), (68.0, 0.02), (71.0, 0.03), (68.0, 0.42), (68.0, 0.04), (69.0, 0.13), (65.0, 0.01), (70.0, 0.09), (69.0, 0.33), (64.0, 0.03), (60.0, 0.0), (67.0, None), (72.0, 0.15), (73.0, 0.0), (70.0, 0.55), (68.0, 1.24), (69.0, 0.83), (69.0, 1.08), (69.0, 0.38), (71.0, 1.48), (71.0, 0.14), (71.0, 0.14), (69.0, 1.03), (65.0, 2.37), (65.0, 0.9)]\n"
     ]
    }
   ],
   "source": [
    "# 6. Write a query that filters the Measurement table to retrieve the temperatures for the month of December.\n",
    "dec = session.query(Measurement.tobs, Measurement.prcp).filter(extract('month', Measurement.date)==12).all()\n",
    "print(dec)"
   ]
  },
  {
   "cell_type": "code",
   "execution_count": 41,
   "metadata": {},
   "outputs": [],
   "source": [
    "# 7. Convert the December temperatures to a list.\n",
    "dec = list(dec)"
   ]
  },
  {
   "cell_type": "code",
   "execution_count": 79,
   "metadata": {},
   "outputs": [],
   "source": [
    "# 8. Create a DataFrame from the list of temperatures for the month of December. \n",
    "dec_df = pd.DataFrame(dec_temps, columns=['Dec Temps', 'Dec Rainfall'])"
   ]
  },
  {
   "cell_type": "code",
   "execution_count": 48,
   "metadata": {},
   "outputs": [
    {
     "data": {
      "text/html": [
       "<div>\n",
       "<style scoped>\n",
       "    .dataframe tbody tr th:only-of-type {\n",
       "        vertical-align: middle;\n",
       "    }\n",
       "\n",
       "    .dataframe tbody tr th {\n",
       "        vertical-align: top;\n",
       "    }\n",
       "\n",
       "    .dataframe thead th {\n",
       "        text-align: right;\n",
       "    }\n",
       "</style>\n",
       "<table border=\"1\" class=\"dataframe\">\n",
       "  <thead>\n",
       "    <tr style=\"text-align: right;\">\n",
       "      <th></th>\n",
       "      <th>Dec Temps</th>\n",
       "      <th>Dec Rainfall</th>\n",
       "    </tr>\n",
       "  </thead>\n",
       "  <tbody>\n",
       "    <tr>\n",
       "      <th>count</th>\n",
       "      <td>1517.000000</td>\n",
       "      <td>1405.000000</td>\n",
       "    </tr>\n",
       "    <tr>\n",
       "      <th>mean</th>\n",
       "      <td>71.041529</td>\n",
       "      <td>0.216819</td>\n",
       "    </tr>\n",
       "    <tr>\n",
       "      <th>std</th>\n",
       "      <td>3.745920</td>\n",
       "      <td>0.541399</td>\n",
       "    </tr>\n",
       "    <tr>\n",
       "      <th>min</th>\n",
       "      <td>56.000000</td>\n",
       "      <td>0.000000</td>\n",
       "    </tr>\n",
       "    <tr>\n",
       "      <th>25%</th>\n",
       "      <td>69.000000</td>\n",
       "      <td>0.000000</td>\n",
       "    </tr>\n",
       "    <tr>\n",
       "      <th>50%</th>\n",
       "      <td>71.000000</td>\n",
       "      <td>0.030000</td>\n",
       "    </tr>\n",
       "    <tr>\n",
       "      <th>75%</th>\n",
       "      <td>74.000000</td>\n",
       "      <td>0.150000</td>\n",
       "    </tr>\n",
       "    <tr>\n",
       "      <th>max</th>\n",
       "      <td>83.000000</td>\n",
       "      <td>6.420000</td>\n",
       "    </tr>\n",
       "  </tbody>\n",
       "</table>\n",
       "</div>"
      ],
      "text/plain": [
       "         Dec Temps  Dec Rainfall\n",
       "count  1517.000000   1405.000000\n",
       "mean     71.041529      0.216819\n",
       "std       3.745920      0.541399\n",
       "min      56.000000      0.000000\n",
       "25%      69.000000      0.000000\n",
       "50%      71.000000      0.030000\n",
       "75%      74.000000      0.150000\n",
       "max      83.000000      6.420000"
      ]
     },
     "execution_count": 48,
     "metadata": {},
     "output_type": "execute_result"
    }
   ],
   "source": [
    "# 9. Calculate and print out the summary statistics for the Decemeber temperature DataFrame.\n",
    "dec_df.describe()"
   ]
  },
  {
   "cell_type": "code",
   "execution_count": 80,
   "metadata": {},
   "outputs": [
    {
     "data": {
      "text/plain": [
       "(0.0, 400.0)"
      ]
     },
     "execution_count": 80,
     "metadata": {},
     "output_type": "execute_result"
    },
    {
     "data": {
      "image/png": "[encoded data removed]",
      "text/plain": [
       "<Figure size 432x288 with 1 Axes>"
      ]
     },
     "metadata": {
      "needs_background": "light"
     },
     "output_type": "display_data"
    }
   ],
   "source": [
    "dec_temp_df = dec_df['Dec Temps']\n",
    "dec_temp_df.plot.hist(bins=15)\n",
    "plt.tight_layout()\n",
    "plt.title('December Temperatures')\n",
    "plt.xlim([55, 85])\n",
    "plt.ylim([0,400])"
   ]
  },
  {
   "cell_type": "code",
   "execution_count": null,
   "metadata": {},
   "outputs": [],
   "source": []
  }
 ],
 "metadata": {
  "kernelspec": {
   "display_name": "Python 3 (ipykernel)",
   "language": "python",
   "name": "python3"
  },
  "language_info": {
   "codemirror_mode": {
    "name": "ipython",
    "version": 3
   },
   "file_extension": ".py",
   "mimetype": "text/x-python",
   "name": "python",
   "nbconvert_exporter": "python",
   "pygments_lexer": "ipython3",
   "version": "3.8.13"
  }
 },
 "nbformat": 4,
 "nbformat_minor": 2
}
